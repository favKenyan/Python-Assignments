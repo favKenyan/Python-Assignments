{
 "cells": [
  {
   "cell_type": "code",
   "execution_count": 1,
   "metadata": {},
   "outputs": [],
   "source": [
    "l1 = [3,41,12,9,74,15]"
   ]
  },
  {
   "cell_type": "markdown",
   "metadata": {},
   "source": [
    "### Q1"
   ]
  },
  {
   "cell_type": "code",
   "execution_count": 2,
   "metadata": {},
   "outputs": [
    {
     "name": "stdout",
     "output_type": "stream",
     "text": [
      "Enter the number: 22\n",
      "22 does not exist.\n"
     ]
    }
   ],
   "source": [
    "def numbers():\n",
    "    num = input('Enter the number: ')\n",
    "    if num in l1:\n",
    "        print( num,'is in the list l1.')\n",
    "    else:\n",
    "        print(num,'does not exist.')\n",
    "numbers()"
   ]
  },
  {
   "cell_type": "markdown",
   "metadata": {},
   "source": [
    "### Q2"
   ]
  },
  {
   "cell_type": "code",
   "execution_count": 9,
   "metadata": {},
   "outputs": [
    {
     "name": "stdout",
     "output_type": "stream",
     "text": [
      "Enter the number: 3\n",
      "3 occurs a total of 1 time(s) in the list l1\n"
     ]
    }
   ],
   "source": [
    "def numbers():\n",
    "    count = 0\n",
    "    num = input('Enter the number: ')\n",
    "    num = int(num)\n",
    "    if num in l1:\n",
    "        for x in l1:\n",
    "            if x == num:\n",
    "                count +=1\n",
    "        print(num,'occurs a total of',count,'time(s) in the list l1')\n",
    "    else:\n",
    "        print(num,'does not exist.')\n",
    "numbers()"
   ]
  }
 ],
 "metadata": {
  "kernelspec": {
   "display_name": "Python 3",
   "language": "python",
   "name": "python3"
  },
  "language_info": {
   "codemirror_mode": {
    "name": "ipython",
    "version": 3
   },
   "file_extension": ".py",
   "mimetype": "text/x-python",
   "name": "python",
   "nbconvert_exporter": "python",
   "pygments_lexer": "ipython3",
   "version": "3.7.1"
  }
 },
 "nbformat": 4,
 "nbformat_minor": 2
}
