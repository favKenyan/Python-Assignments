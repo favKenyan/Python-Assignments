{
 "cells": [
  {
   "cell_type": "code",
   "execution_count": 4,
   "metadata": {},
   "outputs": [
    {
     "name": "stdout",
     "output_type": "stream",
     "text": [
      "Enter number of hours worked: 35\n",
      "Enter the rate per hour: 2.75\n",
      "96.25\n"
     ]
    }
   ],
   "source": [
    "def gross_pay():\n",
    "    hours = input('Enter number of hours worked: ')\n",
    "    rate = input('Enter the rate per hour: ')\n",
    "    try:\n",
    "        pay = float(hours) * float(rate)\n",
    "        print(pay)\n",
    "    except:\n",
    "        print('Please enter numeric input')\n",
    "gross_pay()"
   ]
  }
 ],
 "metadata": {
  "kernelspec": {
   "display_name": "Python 3",
   "language": "python",
   "name": "python3"
  },
  "language_info": {
   "codemirror_mode": {
    "name": "ipython",
    "version": 3
   },
   "file_extension": ".py",
   "mimetype": "text/x-python",
   "name": "python",
   "nbconvert_exporter": "python",
   "pygments_lexer": "ipython3",
   "version": "3.7.1"
  }
 },
 "nbformat": 4,
 "nbformat_minor": 2
}
