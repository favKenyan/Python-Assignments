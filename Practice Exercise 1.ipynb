{
 "cells": [
  {
   "cell_type": "markdown",
   "metadata": {},
   "source": [
    "# Q1"
   ]
  },
  {
   "cell_type": "code",
   "execution_count": 1,
   "metadata": {},
   "outputs": [
    {
     "name": "stdout",
     "output_type": "stream",
     "text": [
      "Please enter the length: 20\n",
      "Please enter the width: 20\n",
      "It is a squre\n"
     ]
    }
   ],
   "source": [
    "def check_square():\n",
    "    length = input('Please enter the length: ')\n",
    "    width = input('Please enter the width: ')\n",
    "    if length == width:\n",
    "        print('It is a squre')\n",
    "    else:\n",
    "        print('It is not a square')\n",
    "check_square()"
   ]
  },
  {
   "cell_type": "markdown",
   "metadata": {},
   "source": [
    "### Q2"
   ]
  },
  {
   "cell_type": "code",
   "execution_count": 2,
   "metadata": {},
   "outputs": [
    {
     "name": "stdout",
     "output_type": "stream",
     "text": [
      "Please enter the first number: 10\n",
      "Please enter the second number: 10\n",
      "The two numbers are equal\n"
     ]
    }
   ],
   "source": [
    "def check_value():\n",
    "    int1 = input('Please enter the first number: ')\n",
    "    int2 = input('Please enter the second number: ')\n",
    "    try:\n",
    "        int1 = int(int1)\n",
    "        int2 = int(int2)\n",
    "        if int1 == int2:\n",
    "            print('The two numbers are equal')\n",
    "        else:\n",
    "            print('The two numbers are not equal')\n",
    "    except:\n",
    "        print('Enter integer values')\n",
    "check_value()"
   ]
  },
  {
   "cell_type": "markdown",
   "metadata": {},
   "source": [
    "### Q3"
   ]
  },
  {
   "cell_type": "code",
   "execution_count": 5,
   "metadata": {},
   "outputs": [
    {
     "name": "stdout",
     "output_type": "stream",
     "text": [
      "Please enter the quantity of goods: 200\n",
      "Your total bill is: 18000.0\n"
     ]
    }
   ],
   "source": [
    "def discount():\n",
    "    price = 100\n",
    "    quantity = input('Please enter the quantity of goods: ')\n",
    "    try:\n",
    "        initial_price = price * int(quantity)\n",
    "        if initial_price>1000:\n",
    "            final_price = (0.9*price) * int(quantity)\n",
    "            print('Your total bill is:',final_price)\n",
    "        else:\n",
    "            print('Your total bill is:',initial_price)\n",
    "    except:\n",
    "        print('Please enter a numeric value')\n",
    "discount()"
   ]
  },
  {
   "cell_type": "markdown",
   "metadata": {},
   "source": [
    "### Q4"
   ]
  },
  {
   "cell_type": "code",
   "execution_count": 9,
   "metadata": {},
   "outputs": [
    {
     "name": "stdout",
     "output_type": "stream",
     "text": [
      "Enter years of service: 5\n",
      "Enter the salary: 100\n",
      "The net bonus is 5.0\n"
     ]
    }
   ],
   "source": [
    "def bonus():\n",
    "    years = input('Enter years of service: ')\n",
    "    salary = input('Enter the salary: ')\n",
    "    try:\n",
    "        years = float(years)\n",
    "        salary = float(salary)\n",
    "        if years <= 5:\n",
    "            print('The net bonus is',(salary*0.05))\n",
    "        elif years>5 and years<=10:\n",
    "            print('The net bonus is',(salary*0.1))\n",
    "        else:\n",
    "            print('The net bonus is',(salary*0.15))\n",
    "    except:\n",
    "        print('Enter numeric value')\n",
    "bonus()"
   ]
  },
  {
   "cell_type": "markdown",
   "metadata": {},
   "source": [
    "### Q5"
   ]
  },
  {
   "cell_type": "code",
   "execution_count": 13,
   "metadata": {},
   "outputs": [
    {
     "name": "stdout",
     "output_type": "stream",
     "text": [
      "Enter the raw marks: 20\n",
      "Grade F\n"
     ]
    }
   ],
   "source": [
    "def grading():\n",
    "    marks = input('Enter the raw marks: ')\n",
    "    try:\n",
    "        marks = float(marks)\n",
    "        if marks <= 25:\n",
    "            print('Grade F')\n",
    "        elif marks >25 and marks<=45:\n",
    "            print('Grade E')\n",
    "        elif marks>45 and marks<=50:\n",
    "            print('Grade D')\n",
    "        elif marks >50 and marks <=60:\n",
    "            print('Grade C')\n",
    "        elif marks >60 and marks<=80:\n",
    "            print('Grade B')\n",
    "        else:\n",
    "            print('Grade A')\n",
    "    except:\n",
    "        print('Enter a numeric value')\n",
    "grading()"
   ]
  },
  {
   "cell_type": "markdown",
   "metadata": {},
   "source": [
    "### Q6"
   ]
  },
  {
   "cell_type": "code",
   "execution_count": 20,
   "metadata": {},
   "outputs": [
    {
     "name": "stdout",
     "output_type": "stream",
     "text": [
      "Age of the first person: 18\n",
      "Age of second person: 19\n",
      "Age of third person: 20\n",
      "The oldest is person 3 age 20.0\n",
      "The youngest is person 1 age 18.0\n",
      "The average age is 19.0\n"
     ]
    }
   ],
   "source": [
    "def ages():\n",
    "    person1 = input('Age of the first person: ')\n",
    "    person2 = input('Age of second person: ')\n",
    "    person3 = input('Age of third person: ')\n",
    "    try:\n",
    "        p1 = float(person1)\n",
    "        p2 = float(person2)\n",
    "        p3 = float(person3)\n",
    "        avg = (p1+p2+p3)/3\n",
    "        if p1>p2 and p1>p3:\n",
    "            print('The oldest is person 1 age',pl)\n",
    "        elif p2>p1 and p2>p3:\n",
    "            print('The oldest is person 2 age',p2)\n",
    "        else:\n",
    "            print('The oldest is person 3 age',p3)\n",
    "        if p1<p2 and p1<p3:\n",
    "            print('The youngest is person 1 age',p1)\n",
    "        elif p2<p1 and p2<p3:\n",
    "            print('The youngest is person 2 age',p2)\n",
    "        else:\n",
    "            print('The youngest is person 3 age',p3)\n",
    "        print('The average age is',avg)\n",
    "    except:\n",
    "        print('Enter numeric values')\n",
    "ages()            "
   ]
  },
  {
   "cell_type": "markdown",
   "metadata": {},
   "source": [
    "### Q7"
   ]
  },
  {
   "cell_type": "code",
   "execution_count": 22,
   "metadata": {},
   "outputs": [
    {
     "name": "stdout",
     "output_type": "stream",
     "text": [
      "Number of classes: 100\n",
      "Classes attended: 75\n",
      "Percentage of classes attended is 75.0 %\n",
      "Student can sit exam\n"
     ]
    }
   ],
   "source": [
    "def attendance():\n",
    "    classes = input('Number of classes: ')\n",
    "    classes_attended = input('Classes attended: ')\n",
    "    try:\n",
    "        percentage = float(classes_attended)/float(classes)\n",
    "        print('Percentage of classes attended is',(percentage*100),'%')\n",
    "        if percentage<0.75:\n",
    "            print('Student can\\tt sit exam')\n",
    "        else:\n",
    "            print('Student can sit exam')\n",
    "    except:\n",
    "        print('Enter numeric value')\n",
    "attendance()"
   ]
  },
  {
   "cell_type": "markdown",
   "metadata": {},
   "source": [
    "### Q8"
   ]
  },
  {
   "cell_type": "code",
   "execution_count": 24,
   "metadata": {},
   "outputs": [
    {
     "name": "stdout",
     "output_type": "stream",
     "text": [
      "Number of classes: 100\n",
      "Classes attended: 60\n",
      "Percentage of classes attended is 60.0 %\n",
      "Is there a medical cause:\"(Y/N)\" N\n",
      "Student can not sit exam\n"
     ]
    }
   ],
   "source": [
    "def attendance():\n",
    "    classes = input('Number of classes: ')\n",
    "    classes_attended = input('Classes attended: ')\n",
    "    try:\n",
    "        percentage = float(classes_attended)/float(classes)\n",
    "        print('Percentage of classes attended is',(percentage*100),'%')\n",
    "        if percentage<0.75:\n",
    "            med = input('Is there a medical cause:\"(Y/N)\" ')\n",
    "            if med.lower() == 'y':\n",
    "                print('Student can sit exam')\n",
    "            else:\n",
    "                print('Student can not sit exam')\n",
    "        else:\n",
    "            print('Student can sit exam')\n",
    "    except:\n",
    "        print('Enter numeric value')\n",
    "attendance()"
   ]
  }
 ],
 "metadata": {
  "kernelspec": {
   "display_name": "Python 3",
   "language": "python",
   "name": "python3"
  },
  "language_info": {
   "codemirror_mode": {
    "name": "ipython",
    "version": 3
   },
   "file_extension": ".py",
   "mimetype": "text/x-python",
   "name": "python",
   "nbconvert_exporter": "python",
   "pygments_lexer": "ipython3",
   "version": "3.7.1"
  }
 },
 "nbformat": 4,
 "nbformat_minor": 2
}
