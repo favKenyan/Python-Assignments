{
 "cells": [
  {
   "cell_type": "markdown",
   "metadata": {},
   "source": [
    "### Q1"
   ]
  },
  {
   "cell_type": "code",
   "execution_count": 9,
   "metadata": {},
   "outputs": [
    {
     "name": "stdout",
     "output_type": "stream",
     "text": [
      "[6, 12, 18, 4, 12, 20, 28]\n"
     ]
    }
   ],
   "source": [
    "def combine_list(l1,l2):\n",
    "    l3 = []\n",
    "    x = l1[1::2]\n",
    "    y = l2[::2]\n",
    "    l3.extend(x)\n",
    "    l3.extend(y)\n",
    "    print(l3)\n",
    "combine_list([3,6,9,12,15,18,21],[4,8,12,16,20,24,28])"
   ]
  },
  {
   "cell_type": "markdown",
   "metadata": {},
   "source": [
    "### Q2"
   ]
  },
  {
   "cell_type": "code",
   "execution_count": 1,
   "metadata": {},
   "outputs": [
    {
     "name": "stdout",
     "output_type": "stream",
     "text": [
      "(30, 60, 45)\n"
     ]
    }
   ],
   "source": [
    "def combined_set(fs,ss):\n",
    "    l1 = []\n",
    "    for x in fs:\n",
    "        if x in ss:\n",
    "            continue\n",
    "        else:\n",
    "            l1.append(x)\n",
    "    print(tuple(l1))\n",
    "combined_set((10,30,40,60,45),(20,50,10,40,55))"
   ]
  },
  {
   "cell_type": "markdown",
   "metadata": {},
   "source": [
    "### Q3"
   ]
  },
  {
   "cell_type": "code",
   "execution_count": 56,
   "metadata": {},
   "outputs": [
    {
     "name": "stdout",
     "output_type": "stream",
     "text": [
      "[54, 44, 91, 27, 79, 41, 91]\n"
     ]
    }
   ],
   "source": [
    "def lst(l1):\n",
    "    x = l1[4]\n",
    "    l1.insert(2,l1.pop(4))\n",
    "    y = l1[2]\n",
    "    l1.append(y)\n",
    "    print(l1)\n",
    "lst([54, 44, 27, 79, 91, 41])"
   ]
  },
  {
   "cell_type": "markdown",
   "metadata": {},
   "source": [
    "### Q5"
   ]
  },
  {
   "cell_type": "code",
   "execution_count": 57,
   "metadata": {},
   "outputs": [
    {
     "name": "stdout",
     "output_type": "stream",
     "text": [
      "[3, 2, 1] [6, 5, 4] [9, 8, 7]\n"
     ]
    }
   ],
   "source": [
    "def list_slice(l1):\n",
    "    l2 = []\n",
    "    l3 = []\n",
    "    l4 = [] \n",
    "    x = l1[:3]\n",
    "    y = l1[3:6]\n",
    "    z = l1[6:]\n",
    "    l2.extend(x)\n",
    "    l3.extend(y)\n",
    "    l4.extend(z)\n",
    "    l2.reverse()\n",
    "    l3.reverse()\n",
    "    l4.reverse()\n",
    "    print(l2,l3,l4)\n",
    "list_slice([1, 2, 3, 4, 5, 6, 7, 8, 9])"
   ]
  },
  {
   "cell_type": "markdown",
   "metadata": {},
   "source": [
    "### Q6"
   ]
  },
  {
   "cell_type": "code",
   "execution_count": 59,
   "metadata": {},
   "outputs": [
    {
     "name": "stdout",
     "output_type": "stream",
     "text": [
      "{10: 2, 20: 2, 30: 1, 40: 1, 50: 1}\n"
     ]
    }
   ],
   "source": [
    "def count_list(l1):\n",
    "    d1 = {}\n",
    "    for x in l1:\n",
    "        if x not in d1:\n",
    "            d1[x] = 1\n",
    "        else:\n",
    "            d1[x]+=1\n",
    "    print(d1)\n",
    "count_list([10, 20, 30, 10, 20, 40, 50])"
   ]
  },
  {
   "cell_type": "markdown",
   "metadata": {},
   "source": [
    "### Q7"
   ]
  },
  {
   "cell_type": "code",
   "execution_count": 78,
   "metadata": {},
   "outputs": [
    {
     "name": "stdout",
     "output_type": "stream",
     "text": [
      "[64, 37, 83, 95]\n"
     ]
    }
   ],
   "source": [
    "def check_dic(l1,d1):\n",
    "    for x in l1:\n",
    "        for y in d1.values():\n",
    "            if x == y:\n",
    "                l1.pop(l1.index(x))\n",
    "    print(l1)\n",
    "check_dic([47, 64, 69, 37, 76, 83, 95, 97],{'Jhon':47, 'Emma':69, 'Kelly':76, 'Jason':97})"
   ]
  },
  {
   "cell_type": "markdown",
   "metadata": {},
   "source": [
    "### Q8"
   ]
  },
  {
   "cell_type": "code",
   "execution_count": 89,
   "metadata": {},
   "outputs": [
    {
     "name": "stdout",
     "output_type": "stream",
     "text": [
      "[87, 45, 65, 41, 99, 94]\n",
      "(87, 45, 65, 41, 99, 94)\n",
      "99\n",
      "41\n"
     ]
    }
   ],
   "source": [
    "def check_list(l1):\n",
    "    for x in l1:\n",
    "        count=l1.count(x)\n",
    "        if count>1:\n",
    "            l1.remove(x)\n",
    "    print(l1)\n",
    "    print(tuple(l1))\n",
    "    print(max(l1))\n",
    "    print(min(l1))\n",
    "check_list([87, 45, 41, 65, 94, 41, 99, 94])"
   ]
  },
  {
   "cell_type": "markdown",
   "metadata": {},
   "source": [
    "### Q9"
   ]
  },
  {
   "cell_type": "code",
   "execution_count": 2,
   "metadata": {},
   "outputs": [
    {
     "name": "stdout",
     "output_type": "stream",
     "text": [
      "{'p': 2, 'y': 3, 't': 3, 'h': 2, 'o': 4, 'n': 3, 'i': 2, 's': 2, 'r': 2, 'e': 2, 'a': 3, 'l': 3, 'c': 1, 'd': 1, 'g': 1}\n"
     ]
    }
   ],
   "source": [
    "def string(s1):\n",
    "    d1 = {}\n",
    "    for x in s1:\n",
    "        if x in d1:\n",
    "            d1[x] +=1\n",
    "        else:\n",
    "            d1[x] = 1\n",
    "    print(d1)\n",
    "string('pythonisreallycoolandpythonisgreat')"
   ]
  },
  {
   "cell_type": "markdown",
   "metadata": {},
   "source": [
    "### Q10"
   ]
  },
  {
   "cell_type": "code",
   "execution_count": 90,
   "metadata": {},
   "outputs": [
    {
     "name": "stdout",
     "output_type": "stream",
     "text": [
      "Chars= 4 Uppercase= 1 Lowercase= 7 Dgits= 3\n"
     ]
    }
   ],
   "source": [
    "def findDigitsCharsSymbols(s1):\n",
    "    lower = 0\n",
    "    upper = 0\n",
    "    digit = 0\n",
    "    special = 0\n",
    "    for x in s1:\n",
    "        if x.islower():\n",
    "            lower+=1\n",
    "        elif x.isupper():\n",
    "            upper+=1\n",
    "        elif x.isdigit():\n",
    "            digit+=1\n",
    "        else:\n",
    "            special+=1\n",
    "    print('Chars=',special,'Uppercase=',upper,'Lowercase=',lower,'Dgits=',digit)\n",
    "findDigitsCharsSymbols(\"P@#yn26at^&i5ve\")"
   ]
  },
  {
   "cell_type": "markdown",
   "metadata": {},
   "source": [
    "### Q11"
   ]
  },
  {
   "cell_type": "code",
   "execution_count": 121,
   "metadata": {},
   "outputs": [
    {
     "name": "stdout",
     "output_type": "stream",
     "text": [
      "Dip\n"
     ]
    }
   ],
   "source": [
    "def string1(s1):\n",
    "    x = len(s1)\n",
    "    if (x>=7) and (x%2 != 0):\n",
    "        div = (((x)-1)/2)\n",
    "        print(s1[int(div)-1:int(div)+2])\n",
    "string1(\"JhonDipPeta\")"
   ]
  }
 ],
 "metadata": {
  "kernelspec": {
   "display_name": "Python 3",
   "language": "python",
   "name": "python3"
  },
  "language_info": {
   "codemirror_mode": {
    "name": "ipython",
    "version": 3
   },
   "file_extension": ".py",
   "mimetype": "text/x-python",
   "name": "python",
   "nbconvert_exporter": "python",
   "pygments_lexer": "ipython3",
   "version": "3.7.1"
  }
 },
 "nbformat": 4,
 "nbformat_minor": 2
}
