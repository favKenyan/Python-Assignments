{
 "cells": [
  {
   "cell_type": "code",
   "execution_count": 6,
   "metadata": {},
   "outputs": [],
   "source": [
    "a = open('mbox.txt')\n",
    "l1 = []\n",
    "for n in a:\n",
    "    if n.startswith('From') or n.startswith('To'):\n",
    "        n = n.rstrip()\n",
    "        l = n.split()\n",
    "        l1.extend([l[1]])"
   ]
  },
  {
   "cell_type": "code",
   "execution_count": 8,
   "metadata": {},
   "outputs": [
    {
     "name": "stdout",
     "output_type": "stream",
     "text": [
      "('source@collab.sakaiproject.org', 'zqian@umich.edu', 'mmmay@indiana.edu', 'cwen@iupui.edu', 'chmaurer@iupui.edu', 'jimeng@umich.edu', 'aaronz@vt.edu', 'rjlowe@iupui.edu', 'ian@caret.cam.ac.uk')\n"
     ]
    }
   ],
   "source": [
    "c_d = {} \n",
    "for x in l1:\n",
    "    if x not in c_d:\n",
    "        c_d[x] = 1\n",
    "    else:\n",
    "        c_d[x]+=1\n",
    "popular_emails = sorted(c_d, key = c_d.get, reverse = True)\n",
    "popular_emails = popular_emails[:9]\n",
    "print (tuple(popular_emails))"
   ]
  }
 ],
 "metadata": {
  "kernelspec": {
   "display_name": "Python 3",
   "language": "python",
   "name": "python3"
  },
  "language_info": {
   "codemirror_mode": {
    "name": "ipython",
    "version": 3
   },
   "file_extension": ".py",
   "mimetype": "text/x-python",
   "name": "python",
   "nbconvert_exporter": "python",
   "pygments_lexer": "ipython3",
   "version": "3.7.1"
  }
 },
 "nbformat": 4,
 "nbformat_minor": 2
}
