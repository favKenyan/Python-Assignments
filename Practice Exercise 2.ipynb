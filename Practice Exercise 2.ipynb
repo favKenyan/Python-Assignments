{
 "cells": [
  {
   "cell_type": "markdown",
   "metadata": {},
   "source": [
    "### Q1"
   ]
  },
  {
   "cell_type": "code",
   "execution_count": 11,
   "metadata": {},
   "outputs": [
    {
     "data": {
      "text/plain": [
       "30"
      ]
     },
     "execution_count": 11,
     "metadata": {},
     "output_type": "execute_result"
    }
   ],
   "source": [
    "def sm(n1,n2):\n",
    "    sum1 = n1 + n2\n",
    "    return sum1\n",
    "sm(10,20)"
   ]
  },
  {
   "cell_type": "markdown",
   "metadata": {},
   "source": [
    "### Q2"
   ]
  },
  {
   "cell_type": "code",
   "execution_count": 7,
   "metadata": {},
   "outputs": [
    {
     "data": {
      "text/plain": [
       "'2'"
      ]
     },
     "execution_count": 7,
     "metadata": {},
     "output_type": "execute_result"
    }
   ],
   "source": [
    "def string(int1):\n",
    "    s1 = str(int1)\n",
    "    return s1\n",
    "string(2)"
   ]
  },
  {
   "cell_type": "markdown",
   "metadata": {},
   "source": [
    "### Q3"
   ]
  },
  {
   "cell_type": "code",
   "execution_count": 12,
   "metadata": {},
   "outputs": [
    {
     "name": "stdout",
     "output_type": "stream",
     "text": [
      "Enter number 1: 1\n",
      "Enter number 2: 2\n"
     ]
    },
    {
     "data": {
      "text/plain": [
       "3"
      ]
     },
     "execution_count": 12,
     "metadata": {},
     "output_type": "execute_result"
    }
   ],
   "source": [
    "def sm():\n",
    "    n1 = input('Enter number 1: ')\n",
    "    n2 = input('Enter number 2: ')\n",
    "    sm = int(n1) + int(n2)\n",
    "    return sm\n",
    "sm()"
   ]
  },
  {
   "cell_type": "markdown",
   "metadata": {},
   "source": [
    "### Q4"
   ]
  },
  {
   "cell_type": "code",
   "execution_count": 13,
   "metadata": {},
   "outputs": [
    {
     "name": "stdout",
     "output_type": "stream",
     "text": [
      "String 1: Fred\n",
      "String 2: Gachoka\n"
     ]
    },
    {
     "data": {
      "text/plain": [
       "'FredGachoka'"
      ]
     },
     "execution_count": 13,
     "metadata": {},
     "output_type": "execute_result"
    }
   ],
   "source": [
    "def concatenation():\n",
    "    s1 = input('String 1: ')\n",
    "    s2 = input('String 2: ')\n",
    "    s3 = s1 + s2\n",
    "    return s3\n",
    "concatenation()"
   ]
  },
  {
   "cell_type": "markdown",
   "metadata": {},
   "source": [
    "### Q5"
   ]
  },
  {
   "cell_type": "code",
   "execution_count": 14,
   "metadata": {},
   "outputs": [
    {
     "name": "stdout",
     "output_type": "stream",
     "text": [
      "Enter the number: 3\n",
      "3 is an odd number.\n"
     ]
    }
   ],
   "source": [
    "def num():\n",
    "    number = input('Enter the number: ')\n",
    "    if int(number)%2 == 0:\n",
    "        print(number,'is an even number.')\n",
    "    else:\n",
    "        print(number,'is an odd number.')\n",
    "num()"
   ]
  },
  {
   "cell_type": "markdown",
   "metadata": {},
   "source": [
    "### Q6"
   ]
  },
  {
   "cell_type": "code",
   "execution_count": 15,
   "metadata": {},
   "outputs": [
    {
     "data": {
      "text/plain": [
       "2"
      ]
     },
     "execution_count": 15,
     "metadata": {},
     "output_type": "execute_result"
    }
   ],
   "source": [
    "def compare(i1,i2):\n",
    "    if i1>i2:\n",
    "        return i1\n",
    "    else:\n",
    "        return i2\n",
    "compare(1,2)"
   ]
  },
  {
   "cell_type": "markdown",
   "metadata": {},
   "source": [
    "### Q7"
   ]
  },
  {
   "cell_type": "code",
   "execution_count": 16,
   "metadata": {},
   "outputs": [
    {
     "data": {
      "text/plain": [
       "10"
      ]
     },
     "execution_count": 16,
     "metadata": {},
     "output_type": "execute_result"
    }
   ],
   "source": [
    "def comparison(i1,i2,i3):\n",
    "    if i1<i2 and i1<i3:\n",
    "        return i1\n",
    "    elif i2<i1 and i2<i3:\n",
    "        return i2\n",
    "    else:\n",
    "        return i3\n",
    "comparison(10,30,20)"
   ]
  },
  {
   "cell_type": "markdown",
   "metadata": {},
   "source": [
    "### Q8"
   ]
  },
  {
   "cell_type": "code",
   "execution_count": 17,
   "metadata": {},
   "outputs": [
    {
     "name": "stdout",
     "output_type": "stream",
     "text": [
      "Enter the mark: 60\n",
      "Grade B\n"
     ]
    }
   ],
   "source": [
    "def score():\n",
    "    mark = input('Enter the mark: ')\n",
    "    mark = int(mark)\n",
    "    if mark < 40:\n",
    "        print('Grade F')\n",
    "    elif mark>= 40 and mark<50:\n",
    "        print('Grade D')\n",
    "    elif mark>=50 and mark <60:\n",
    "        print('Grade C')\n",
    "    elif mark>=60 and mark <70:\n",
    "        print('Grade B')\n",
    "    else:\n",
    "        print('Grade A')\n",
    "score()"
   ]
  },
  {
   "cell_type": "markdown",
   "metadata": {},
   "source": [
    "### Q8"
   ]
  },
  {
   "cell_type": "code",
   "execution_count": 19,
   "metadata": {},
   "outputs": [
    {
     "name": "stdout",
     "output_type": "stream",
     "text": [
      "Enter base: 10\n",
      "ENter the height: 5\n"
     ]
    },
    {
     "data": {
      "text/plain": [
       "('The area is', 25.0)"
      ]
     },
     "execution_count": 19,
     "metadata": {},
     "output_type": "execute_result"
    }
   ],
   "source": [
    "def triangle():\n",
    "    b = int(input('Enter base: '))\n",
    "    h = int(input('ENter the height: '))\n",
    "    area = 'The area is',0.5*(b*h)\n",
    "    return area\n",
    "triangle()"
   ]
  }
 ],
 "metadata": {
  "kernelspec": {
   "display_name": "Python 3",
   "language": "python",
   "name": "python3"
  },
  "language_info": {
   "codemirror_mode": {
    "name": "ipython",
    "version": 3
   },
   "file_extension": ".py",
   "mimetype": "text/x-python",
   "name": "python",
   "nbconvert_exporter": "python",
   "pygments_lexer": "ipython3",
   "version": "3.7.1"
  }
 },
 "nbformat": 4,
 "nbformat_minor": 2
}
