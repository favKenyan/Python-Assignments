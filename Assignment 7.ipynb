{
 "cells": [
  {
   "cell_type": "code",
   "execution_count": 1,
   "metadata": {},
   "outputs": [],
   "source": [
    "l1 = []\n",
    "a = open('mbox.txt')\n",
    "for x in a:\n",
    "    x = x.rstrip()\n",
    "    if x.startswith('From') or x.startswith('To'):\n",
    "        split_l = x.split()\n",
    "        l1.extend([split_l[1]])"
   ]
  },
  {
   "cell_type": "code",
   "execution_count": 2,
   "metadata": {},
   "outputs": [],
   "source": [
    "emails_dict = {}\n",
    "for n in l1:\n",
    "    if n not in emails_dict:\n",
    "        emails_dict[n] = 1\n",
    "    else:\n",
    "        emails_dict[n]+=1"
   ]
  },
  {
   "cell_type": "code",
   "execution_count": 3,
   "metadata": {},
   "outputs": [
    {
     "data": {
      "text/plain": [
       "{'stephen.marquard@uct.ac.za': 58,\n",
       " 'source@collab.sakaiproject.org': 1644,\n",
       " 'louis@media.berkeley.edu': 40,\n",
       " 'zqian@umich.edu': 330,\n",
       " 'rjlowe@iupui.edu': 158,\n",
       " 'cwen@iupui.edu': 314,\n",
       " 'gsilver@umich.edu': 48,\n",
       " 'wagnermr@iupui.edu': 86,\n",
       " 'antranig@caret.cam.ac.uk': 36,\n",
       " 'gopal.ramasammycook@gmail.com': 50,\n",
       " 'david.horwitz@uct.ac.za': 134,\n",
       " 'ray@media.berkeley.edu': 42,\n",
       " 'mmmay@indiana.edu': 322,\n",
       " 'stuart.freeman@et.gatech.edu': 34,\n",
       " 'tnguyen@iupui.edu': 12,\n",
       " 'chmaurer@iupui.edu': 214,\n",
       " 'aaronz@vt.edu': 164,\n",
       " 'ian@caret.cam.ac.uk': 158,\n",
       " 'csev@umich.edu': 38,\n",
       " 'jimeng@umich.edu': 186,\n",
       " 'josrodri@iupui.edu': 56,\n",
       " 'knoop@umich.edu': 10,\n",
       " 'bkirschn@umich.edu': 48,\n",
       " 'dlhaines@umich.edu': 144,\n",
       " 'hu2@iupui.edu': 14,\n",
       " 'sgithens@caret.cam.ac.uk': 86,\n",
       " 'arwhyte@umich.edu': 54,\n",
       " 'gbhatnag@umich.edu': 6,\n",
       " 'gjthomas@iupui.edu': 80,\n",
       " 'a.fish@lancaster.ac.uk': 28,\n",
       " 'ajpoland@iupui.edu': 82,\n",
       " 'lance@indiana.edu': 16,\n",
       " 'ssmail@indiana.edu': 10,\n",
       " 'jlrenfro@ucdavis.edu': 2,\n",
       " 'nuno@ufp.pt': 56,\n",
       " 'zach.thomas@txstate.edu': 28,\n",
       " 'ktsao@stanford.edu': 16,\n",
       " 'ostermmg@whitman.edu': 34,\n",
       " 'out': 1,\n",
       " 'john.ellis@rsmart.com': 16,\n",
       " 'jleasia@umich.edu': 4,\n",
       " 'ggolden@umich.edu': 16,\n",
       " 'thoppaymallika@fhda.edu': 2,\n",
       " 'kimsooil@bu.edu': 28,\n",
       " 'dot': 1,\n",
       " 'bahollad@indiana.edu': 4,\n",
       " 'jzaremba@unicon.net': 10,\n",
       " 'use': 1,\n",
       " 'mbreuker@loi.nl': 14}"
      ]
     },
     "execution_count": 3,
     "metadata": {},
     "output_type": "execute_result"
    }
   ],
   "source": [
    "emails_dict"
   ]
  }
 ],
 "metadata": {
  "kernelspec": {
   "display_name": "Python 3",
   "language": "python",
   "name": "python3"
  },
  "language_info": {
   "codemirror_mode": {
    "name": "ipython",
    "version": 3
   },
   "file_extension": ".py",
   "mimetype": "text/x-python",
   "name": "python",
   "nbconvert_exporter": "python",
   "pygments_lexer": "ipython3",
   "version": "3.7.1"
  }
 },
 "nbformat": 4,
 "nbformat_minor": 2
}
