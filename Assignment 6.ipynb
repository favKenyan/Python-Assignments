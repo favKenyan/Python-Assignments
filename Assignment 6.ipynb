{
 "cells": [
  {
   "cell_type": "markdown",
   "metadata": {},
   "source": [
    "### Q1"
   ]
  },
  {
   "cell_type": "code",
   "execution_count": 2,
   "metadata": {},
   "outputs": [],
   "source": [
    "c_list = []\n",
    "a = open('mbox.txt')\n",
    "for x in a:\n",
    "    x = x.rstrip()\n",
    "    if x.startswith('From'):\n",
    "        split_l = x.split()\n",
    "        if len(split_l)>=4:\n",
    "            c_list.extend([split_l[2]])"
   ]
  },
  {
   "cell_type": "code",
   "execution_count": 3,
   "metadata": {},
   "outputs": [
    {
     "name": "stdout",
     "output_type": "stream",
     "text": [
      "The most frequent day is Thu with a count of 352\n"
     ]
    }
   ],
   "source": [
    "counter = 0\n",
    "index = c_list[0]\n",
    "for c in c_list:\n",
    "    current = c_list.count(c)\n",
    "    if(current > counter):\n",
    "        counter = current\n",
    "        index = c\n",
    "print('The most frequent day is',index,'with a count of',counter)"
   ]
  },
  {
   "cell_type": "markdown",
   "metadata": {},
   "source": [
    "### Q2"
   ]
  },
  {
   "cell_type": "code",
   "execution_count": 4,
   "metadata": {},
   "outputs": [],
   "source": [
    "c_list = []\n",
    "a = open('mbox.txt')\n",
    "for x in a:\n",
    "    x = x.rstrip()\n",
    "    if x.startswith('From'):\n",
    "        split_l = x.split()\n",
    "        if len(split_l)>=4:\n",
    "            c_list.extend([split_l[4]])"
   ]
  },
  {
   "cell_type": "code",
   "execution_count": 5,
   "metadata": {},
   "outputs": [
    {
     "name": "stdout",
     "output_type": "stream",
     "text": [
      "The most frequent day of the month is 29 with a count of 140\n"
     ]
    }
   ],
   "source": [
    "counter = 0\n",
    "num = c_list[0]\n",
    "for i in c_list:\n",
    "    current = c_list.count(i)\n",
    "    if(current>counter):\n",
    "        counter = current\n",
    "        num = i\n",
    "print('The most frequent day of the month is',num,'with a count of',counter)"
   ]
  },
  {
   "cell_type": "code",
   "execution_count": null,
   "metadata": {},
   "outputs": [],
   "source": []
  }
 ],
 "metadata": {
  "kernelspec": {
   "display_name": "Python 3",
   "language": "python",
   "name": "python3"
  },
  "language_info": {
   "codemirror_mode": {
    "name": "ipython",
    "version": 3
   },
   "file_extension": ".py",
   "mimetype": "text/x-python",
   "name": "python",
   "nbconvert_exporter": "python",
   "pygments_lexer": "ipython3",
   "version": "3.7.1"
  }
 },
 "nbformat": 4,
 "nbformat_minor": 2
}
