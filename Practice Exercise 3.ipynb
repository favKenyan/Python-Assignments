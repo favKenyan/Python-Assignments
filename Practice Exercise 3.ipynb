{
 "cells": [
  {
   "cell_type": "markdown",
   "metadata": {},
   "source": [
    "### Q1"
   ]
  },
  {
   "cell_type": "code",
   "execution_count": 18,
   "metadata": {},
   "outputs": [
    {
     "name": "stdout",
     "output_type": "stream",
     "text": [
      "0 0\n",
      "1 1\n",
      "2 4\n",
      "3 9\n",
      "4 16\n",
      "5 25\n",
      "6 36\n",
      "7 49\n",
      "8 64\n",
      "9 81\n",
      "10 100\n"
     ]
    }
   ],
   "source": [
    "def square():\n",
    "    num = 10\n",
    "    for x in range(num+1):\n",
    "        print(x,x*x)\n",
    "square()"
   ]
  },
  {
   "cell_type": "markdown",
   "metadata": {},
   "source": [
    "### Q2"
   ]
  },
  {
   "cell_type": "code",
   "execution_count": 17,
   "metadata": {
    "scrolled": true
   },
   "outputs": [
    {
     "name": "stdout",
     "output_type": "stream",
     "text": [
      "1\n",
      "3\n",
      "5\n",
      "7\n",
      "9\n",
      "11\n",
      "13\n",
      "15\n",
      "17\n",
      "19\n",
      "21\n",
      "23\n",
      "25\n",
      "27\n",
      "29\n",
      "31\n",
      "33\n",
      "35\n",
      "37\n",
      "39\n",
      "41\n",
      "43\n",
      "45\n",
      "47\n",
      "49\n",
      "51\n",
      "53\n",
      "55\n",
      "57\n",
      "59\n",
      "61\n",
      "63\n",
      "65\n",
      "67\n",
      "69\n",
      "71\n",
      "73\n",
      "75\n",
      "77\n",
      "79\n",
      "81\n",
      "83\n",
      "85\n",
      "87\n",
      "89\n",
      "91\n",
      "93\n",
      "95\n",
      "97\n",
      "99\n"
     ]
    }
   ],
   "source": [
    "def odd():\n",
    "    num = 100\n",
    "    for x in range(num+1):\n",
    "        if x%2 != 0:\n",
    "            print(x)\n",
    "odd()"
   ]
  },
  {
   "cell_type": "code",
   "execution_count": null,
   "metadata": {},
   "outputs": [],
   "source": []
  },
  {
   "cell_type": "markdown",
   "metadata": {},
   "source": [
    "### Q3"
   ]
  },
  {
   "cell_type": "code",
   "execution_count": 16,
   "metadata": {},
   "outputs": [
    {
     "data": {
      "text/plain": [
       "30"
      ]
     },
     "execution_count": 16,
     "metadata": {},
     "output_type": "execute_result"
    }
   ],
   "source": [
    "def sum_even():\n",
    "    count = 0\n",
    "    num = 10\n",
    "    for x in range(num+1):\n",
    "        if x%2 == 0 :\n",
    "            count = count + x\n",
    "    return count\n",
    "sum_even()"
   ]
  },
  {
   "cell_type": "markdown",
   "metadata": {},
   "source": [
    "### Q4"
   ]
  },
  {
   "cell_type": "code",
   "execution_count": 22,
   "metadata": {},
   "outputs": [
    {
     "name": "stdout",
     "output_type": "stream",
     "text": [
      "The factorial of 5 is 120\n"
     ]
    }
   ],
   "source": [
    "def factorial(num):   \n",
    "    factorial = 1\n",
    "    if num < 0:\n",
    "        print('Sorry, factorial does not exist')\n",
    "    elif num == 0:\n",
    "        print('The factorial of 0 is 1')\n",
    "    else:\n",
    "        for i in range(1,num + 1):\n",
    "            factorial = factorial*i\n",
    "        print(\"The factorial of\",num,\"is\",factorial)\n",
    "factorial(5)"
   ]
  },
  {
   "cell_type": "markdown",
   "metadata": {},
   "source": [
    "### Q5"
   ]
  },
  {
   "cell_type": "code",
   "execution_count": 32,
   "metadata": {},
   "outputs": [
    {
     "name": "stdout",
     "output_type": "stream",
     "text": [
      "Enter number6\n",
      "* \n",
      "\n",
      "** \n",
      "\n",
      "*** \n",
      "\n",
      "**** \n",
      "\n",
      "***** \n",
      "\n",
      "****** \n",
      "\n"
     ]
    }
   ],
   "source": [
    "def asterisk():\n",
    "    num = int(input('Enter number'))\n",
    "    if num > 0:\n",
    "        for i in range(1,num+1):\n",
    "            print(i*'*','\\n')\n",
    "asterisk()"
   ]
  },
  {
   "cell_type": "markdown",
   "metadata": {},
   "source": [
    "### Q6"
   ]
  },
  {
   "cell_type": "code",
   "execution_count": 52,
   "metadata": {},
   "outputs": [
    {
     "name": "stdout",
     "output_type": "stream",
     "text": [
      "Enter number3\n",
      "1  \n",
      "2 2  \n",
      "3 3 3  \n"
     ]
    }
   ],
   "source": [
    "def numbers_triangle():\n",
    "    num = int(input('Enter number'))\n",
    "    if num > 0:\n",
    "        for i in range(1,num+1):\n",
    "            for x in range(1,i+1):\n",
    "                print(i,end=' ')\n",
    "            print(' ')\n",
    "numbers_triangle()"
   ]
  },
  {
   "cell_type": "markdown",
   "metadata": {},
   "source": [
    "### Q7"
   ]
  },
  {
   "cell_type": "code",
   "execution_count": 69,
   "metadata": {},
   "outputs": [
    {
     "name": "stdout",
     "output_type": "stream",
     "text": [
      "Enter number: 1\n",
      "nope 1 is not a prime number.\n"
     ]
    }
   ],
   "source": [
    "def prime():\n",
    "    num = int(input('Enter number: '))\n",
    "    count = 0\n",
    "    for x in range(1,num+1):\n",
    "        if num % x == 0:\n",
    "            count +=1\n",
    "    if count == 2:\n",
    "        print(num,'is a prime number')\n",
    "    else:\n",
    "        print('nope',num,'is not a prime number.')\n",
    "prime()"
   ]
  },
  {
   "cell_type": "markdown",
   "metadata": {},
   "source": [
    "### Q8"
   ]
  },
  {
   "cell_type": "code",
   "execution_count": 1,
   "metadata": {
    "scrolled": true
   },
   "outputs": [
    {
     "name": "stdout",
     "output_type": "stream",
     "text": [
      "2\n",
      "3\n",
      "5\n",
      "7\n",
      "11\n",
      "13\n",
      "17\n",
      "19\n",
      "23\n",
      "29\n",
      "31\n",
      "37\n",
      "41\n",
      "43\n",
      "47\n",
      "53\n",
      "59\n",
      "61\n",
      "67\n",
      "71\n",
      "73\n",
      "79\n",
      "83\n",
      "89\n",
      "97\n",
      "Total count is: 25\n"
     ]
    }
   ],
   "source": [
    "def print_prime(num):\n",
    "    total = 0\n",
    "    for x in range(1,num+1):\n",
    "        count = 0\n",
    "        for i in range(2, (x//2 + 1)):\n",
    "            if(x % i == 0):\n",
    "                count = count + 1\n",
    "                break\n",
    "        if (count == 0 and x != 1):\n",
    "            total +=1\n",
    "            print(x)\n",
    "    print('Total count is:',total)\n",
    "print_prime(100)"
   ]
  },
  {
   "cell_type": "markdown",
   "metadata": {},
   "source": [
    "### Q9"
   ]
  },
  {
   "cell_type": "code",
   "execution_count": 3,
   "metadata": {},
   "outputs": [
    {
     "name": "stdout",
     "output_type": "stream",
     "text": [
      "0\n",
      "1\n",
      "1\n",
      "2\n",
      "3\n",
      "5\n",
      "8\n",
      "13\n",
      "21\n",
      "34\n"
     ]
    }
   ],
   "source": [
    "def fibonnaci():\n",
    "    first = 0\n",
    "    second = 1\n",
    "    terms = 10\n",
    "    count = 0\n",
    "    while count<terms:\n",
    "        print(first)\n",
    "        nth = first + second\n",
    "        first = second\n",
    "        second = nth\n",
    "        count +=1\n",
    "fibonnaci()"
   ]
  }
 ],
 "metadata": {
  "kernelspec": {
   "display_name": "Python 3",
   "language": "python",
   "name": "python3"
  },
  "language_info": {
   "codemirror_mode": {
    "name": "ipython",
    "version": 3
   },
   "file_extension": ".py",
   "mimetype": "text/x-python",
   "name": "python",
   "nbconvert_exporter": "python",
   "pygments_lexer": "ipython3",
   "version": "3.7.1"
  }
 },
 "nbformat": 4,
 "nbformat_minor": 2
}
